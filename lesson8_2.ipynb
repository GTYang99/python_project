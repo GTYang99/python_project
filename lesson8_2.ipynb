{
 "cells": [
  {
   "cell_type": "code",
   "execution_count": 1,
   "metadata": {},
   "outputs": [
    {
     "data": {
      "text/plain": [
       "set"
      ]
     },
     "execution_count": 1,
     "metadata": {},
     "output_type": "execute_result"
    }
   ],
   "source": [
    "# 集合類型\n",
    "nums_set = set()\n",
    "type(nums_set)"
   ]
  },
  {
   "cell_type": "code",
   "execution_count": 3,
   "metadata": {},
   "outputs": [
    {
     "name": "stdout",
     "output_type": "stream",
     "text": [
      "{8, 2, 4, 6}\n"
     ]
    },
    {
     "data": {
      "text/plain": [
       "[8, 2, 4, 6]"
      ]
     },
     "execution_count": 3,
     "metadata": {},
     "output_type": "execute_result"
    }
   ],
   "source": [
    "# 集合用大括號，相較於dict，集合不用建立索引\n",
    "num1_set = {2, 4, 6, 8, 2, 4, 6, 8}\n",
    "len(num1_set)\n",
    "print(num1_set)\n",
    "\n",
    "num1_list = list(num1_set)\n",
    "num1_list"
   ]
  },
  {
   "cell_type": "code",
   "execution_count": 9,
   "metadata": {},
   "outputs": [
    {
     "data": {
      "text/plain": [
       "37"
      ]
     },
     "execution_count": 9,
     "metadata": {},
     "output_type": "execute_result"
    }
   ],
   "source": [
    "import random\n",
    "random.randint(1,49)"
   ]
  },
  {
   "cell_type": "code",
   "execution_count": 16,
   "metadata": {},
   "outputs": [
    {
     "name": "stdout",
     "output_type": "stream",
     "text": [
      "[23, 35, 1, 12, 31, 25, 6]\n"
     ]
    }
   ],
   "source": [
    "# 建立一個list，用7個亂數填入(值會重複)\n",
    "import random\n",
    "lotts = []\n",
    "for i in range(7):\n",
    "    lotts.append(random.randint(1,49))\n",
    "print(lotts)"
   ]
  },
  {
   "cell_type": "code",
   "execution_count": null,
   "metadata": {},
   "outputs": [],
   "source": [
    "# 老師寫法\n",
    "import random\n",
    "# set的建立方式，學習點\n",
    "lotts_set = set()\n",
    "# len內的參數不需要給括弧\n",
    "while len(lotts_set) < 7:\n",
    "    lotts_set.add(random.randint(1,49))\n",
    "lotts_list = list(lotts_set)\n",
    "print(\"本期大樂透號碼為:\")\n",
    "for i in lotts_list[:6]:\n",
    "    print(i,end=\",\")\n",
    "print(f\"特別號:{lotts_list[-1]}\")"
   ]
  },
  {
   "cell_type": "code",
   "execution_count": 50,
   "metadata": {},
   "outputs": [
    {
     "name": "stdout",
     "output_type": "stream",
     "text": [
      "本期大樂透號碼為:\n",
      "8,20,33,41,45,49,特別號:4\n"
     ]
    }
   ],
   "source": [
    "# 自己寫法\n",
    "import random as rd\n",
    "lotts = set()\n",
    "while len(lotts) < 7:\n",
    "    lotts.add(rd.randint(1,50))\n",
    "lotts_list = sorted(list(lotts))\n",
    "print(\"本期大樂透號碼為:\")\n",
    "for i in lotts_list[:6]:\n",
    "    print(i,end=\",\")\n",
    "lotts.add(rd.randint(1,10))\n",
    "sp = rd.randint(1,11)\n",
    "print(f\"特別號:{sp}\")"
   ]
  },
  {
   "cell_type": "code",
   "execution_count": 25,
   "metadata": {},
   "outputs": [
    {
     "name": "stdout",
     "output_type": "stream",
     "text": [
      "[[4, 40, 42, 44, 19, 28, 29], [4, 40, 42, 44, 19, 28, 29]]\n"
     ]
    }
   ],
   "source": [
    "import random\n",
    "lotts_set = set()\n",
    "lotts_conty = list()\n",
    "x = int(input(\"需要選號的組數\"))\n",
    "\n",
    "for i in range(0,x):\n",
    "    while len(lotts_set) < 7:\n",
    "        lotts_set.add(random.randint(1,49))\n",
    "        lotts_list = list(lotts_set)\n",
    "    lotts_conty.append(lotts_list)\n",
    "print(lotts_conty)    \n"
   ]
  },
  {
   "cell_type": "code",
   "execution_count": 37,
   "metadata": {},
   "outputs": [
    {
     "name": "stdout",
     "output_type": "stream",
     "text": [
      "第1組大樂透號碼:\n",
      "34,41,10,16,19,20,特別號:29\n",
      "第2組大樂透號碼:\n",
      "36,37,9,48,24,26,特別號:31\n",
      "第3組大樂透號碼:\n",
      "2,5,38,9,47,20,特別號:30\n",
      "第4組大樂透號碼:\n",
      "2,5,40,9,24,28,特別號:31\n",
      "第5組大樂透號碼:\n",
      "35,40,46,20,25,27,特別號:29\n",
      "第6組大樂透號碼:\n",
      "32,41,13,47,49,17,特別號:22\n"
     ]
    }
   ],
   "source": [
    "import random\n",
    "# 物件導向\n",
    "def generate_lott(group_id):\n",
    "    lotts_set = set()\n",
    "    while len(lotts_set) < 7:\n",
    "        lotts_set.add(random.randint(1,49))\n",
    "    lotts_list = list(lotts_set)\n",
    "    # 使用format對輸出組數的文字進行編碼\n",
    "    print(f\"第{group_id}組大樂透號碼:\")\n",
    "    for i in lotts_list[:6]:\n",
    "        print(i,end=\",\")\n",
    "    print(f\"特別號:{lotts_list[-1]}\")\n",
    "\n",
    "nums = int(input(\"請問需要幾組樂透:\"))\n",
    "for i in range(nums):\n",
    "    # 這裡呼叫物件，並將輸入的參數回傳到物件中\n",
    "    generate_lott(i+1)"
   ]
  }
 ],
 "metadata": {
  "kernelspec": {
   "display_name": "Python 3.10.6 ('venv01')",
   "language": "python",
   "name": "python3"
  },
  "language_info": {
   "codemirror_mode": {
    "name": "ipython",
    "version": 3
   },
   "file_extension": ".py",
   "mimetype": "text/x-python",
   "name": "python",
   "nbconvert_exporter": "python",
   "pygments_lexer": "ipython3",
   "version": "3.10.6"
  },
  "orig_nbformat": 4,
  "vscode": {
   "interpreter": {
    "hash": "8201ecb79394bc6ddf1ca4392da3852c9be6efad0721bbc0fecf0589d0dad489"
   }
  }
 },
 "nbformat": 4,
 "nbformat_minor": 2
}
