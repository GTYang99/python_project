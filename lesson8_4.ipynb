{
 "cells": [
  {
   "cell_type": "code",
   "execution_count": 1,
   "metadata": {},
   "outputs": [
    {
     "name": "stdout",
     "output_type": "stream",
     "text": [
      "下載成功\n",
      "<class 'requests.models.Response'>\n",
      "<class 'dict'>\n",
      "<class 'list'>\n"
     ]
    }
   ],
   "source": [
    "import requests\n",
    "\n",
    "url = \"https://api.openweathermap.org/data/2.5/forecast?q=Taipei,tw&APPID=29c4f184354b9889e87f7b494ac86aed&lang=zh_tw&units=metric\"\n",
    "\n",
    "response = requests.request(\"get\",url)\n",
    "if response.ok == True:             #response.ok是確定是否下載成功，方法\n",
    "    print(\"下載成功\")\n",
    "    print(type(response))           #下載的資料類型是requests.models.Response,響應體的型別是字串str\n",
    "    all_data = response.json()\n",
    "    print(type(all_data))           #透過response的方法(.json)，將原本的資料型態轉為dict\n",
    "list_data = all_data['list']        #再將資料型態轉為list\n",
    "print(type(list_data))              "
   ]
  },
  {
   "cell_type": "code",
   "execution_count": 2,
   "metadata": {},
   "outputs": [
    {
     "name": "stdout",
     "output_type": "stream",
     "text": [
      "下載成功\n",
      "<class 'requests.models.Response'>\n",
      "<class 'dict'>\n",
      "<class 'list'>\n"
     ]
    },
    {
     "data": {
      "text/plain": [
       "[['2022-09-14 09:00:00', 30.54, '小雨', 63],\n",
       " ['2022-09-14 12:00:00', 29.16, '多雲', 68],\n",
       " ['2022-09-14 15:00:00', 27.22, '陰，多雲', 75],\n",
       " ['2022-09-14 18:00:00', 25.24, '陰，多雲', 79],\n",
       " ['2022-09-14 21:00:00', 25.06, '陰，多雲', 78],\n",
       " ['2022-09-15 00:00:00', 28.24, '多雲', 67],\n",
       " ['2022-09-15 03:00:00', 31.74, '陰，多雲', 53],\n",
       " ['2022-09-15 06:00:00', 31.61, '小雨', 53],\n",
       " ['2022-09-15 09:00:00', 29.29, '小雨', 66],\n",
       " ['2022-09-15 12:00:00', 26.63, '小雨', 78],\n",
       " ['2022-09-15 15:00:00', 25.85, '多雲', 80],\n",
       " ['2022-09-15 18:00:00', 25.31, '晴，少雲', 79],\n",
       " ['2022-09-15 21:00:00', 24.87, '晴', 79],\n",
       " ['2022-09-16 00:00:00', 27.86, '晴', 69],\n",
       " ['2022-09-16 03:00:00', 30.8, '小雨', 56],\n",
       " ['2022-09-16 06:00:00', 31.14, '小雨', 54],\n",
       " ['2022-09-16 09:00:00', 28.74, '晴', 64],\n",
       " ['2022-09-16 12:00:00', 26.69, '晴', 75],\n",
       " ['2022-09-16 15:00:00', 25.61, '多雲', 81],\n",
       " ['2022-09-16 18:00:00', 24.66, '多雲', 84],\n",
       " ['2022-09-16 21:00:00', 23.99, '多雲', 83],\n",
       " ['2022-09-17 00:00:00', 26.84, '多雲', 76],\n",
       " ['2022-09-17 03:00:00', 30.23, '晴', 58],\n",
       " ['2022-09-17 06:00:00', 30.23, '晴', 56],\n",
       " ['2022-09-17 09:00:00', 28.12, '多雲', 67],\n",
       " ['2022-09-17 12:00:00', 26.14, '多雲', 76],\n",
       " ['2022-09-17 15:00:00', 25.49, '陰，多雲', 77],\n",
       " ['2022-09-17 18:00:00', 24.96, '陰，多雲', 78],\n",
       " ['2022-09-17 21:00:00', 24.55, '陰，多雲', 78],\n",
       " ['2022-09-18 00:00:00', 26.51, '小雨', 72],\n",
       " ['2022-09-18 03:00:00', 30.04, '小雨', 61],\n",
       " ['2022-09-18 06:00:00', 30.29, '小雨', 61],\n",
       " ['2022-09-18 09:00:00', 28.51, '小雨', 68],\n",
       " ['2022-09-18 12:00:00', 26.52, '陰，多雲', 75],\n",
       " ['2022-09-18 15:00:00', 25.67, '陰，多雲', 79],\n",
       " ['2022-09-18 18:00:00', 25.2, '陰，多雲', 77],\n",
       " ['2022-09-18 21:00:00', 24.63, '多雲', 75],\n",
       " ['2022-09-19 00:00:00', 27.79, '多雲', 66],\n",
       " ['2022-09-19 03:00:00', 31.82, '多雲', 50],\n",
       " ['2022-09-19 06:00:00', 30.87, '多雲', 53]]"
      ]
     },
     "execution_count": 2,
     "metadata": {},
     "output_type": "execute_result"
    }
   ],
   "source": [
    "import requests\n",
    "\n",
    "url = \"https://api.openweathermap.org/data/2.5/forecast?q=Taipei,tw&APPID=29c4f184354b9889e87f7b494ac86aed&lang=zh_tw&units=metric\"\n",
    "\n",
    "response = requests.request('get',url)\n",
    "if response.ok == True:             #response.ok是確定是否下載成功，方法\n",
    "    print(\"下載成功\")\n",
    "    print(type(response))           #下載的資料類型是requests.models.Response,響應體的型別是字串str\n",
    "    all_data = response.json()\n",
    "    print(type(all_data))           #透過response的方法(.json)，將原本的資料型態轉為dict\n",
    "list_data = all_data['list']        #再將資料型態轉為list\n",
    "print(type(list_data))  \n",
    "\n",
    "county_forcase = []                 #創建一個列表\n",
    "for item in list_data:              #使用變數item遍歷list_data中\"需要的\"的資料\n",
    "    county_forcase.append([item['dt_txt'],item['main']['temp'],item['weather'][0]['description'],item['main']['humidity']])\n",
    "\n",
    "county_forcase\n",
    "print(county_forcase)\n",
    "county_forcase\n",
    "print(county_forcase)"
   ]
  }
 ],
 "metadata": {
  "kernelspec": {
   "display_name": "Python 3.10.6 ('venv01')",
   "language": "python",
   "name": "python3"
  },
  "language_info": {
   "codemirror_mode": {
    "name": "ipython",
    "version": 3
   },
   "file_extension": ".py",
   "mimetype": "text/x-python",
   "name": "python",
   "nbconvert_exporter": "python",
   "pygments_lexer": "ipython3",
   "version": "3.10.6"
  },
  "orig_nbformat": 4,
  "vscode": {
   "interpreter": {
    "hash": "8201ecb79394bc6ddf1ca4392da3852c9be6efad0721bbc0fecf0589d0dad489"
   }
  }
 },
 "nbformat": 4,
 "nbformat_minor": 2
}
