{
 "cells": [
  {
   "cell_type": "code",
   "execution_count": 3,
   "metadata": {},
   "outputs": [
    {
     "name": "stdout",
     "output_type": "stream",
     "text": [
      "[1, 2, 3, 4, 5, 6]\n"
     ]
    }
   ],
   "source": [
    "list1 = [1, 2, 3, 4, 5, 6]\n",
    "print(list1)"
   ]
  },
  {
   "cell_type": "code",
   "execution_count": 4,
   "metadata": {},
   "outputs": [
    {
     "data": {
      "text/plain": [
       "[10, 1, 2, 3, 4, 5, 6]"
      ]
     },
     "execution_count": 4,
     "metadata": {},
     "output_type": "execute_result"
    }
   ],
   "source": [
    "list1.insert(0,10)\n",
    "list1"
   ]
  },
  {
   "cell_type": "code",
   "execution_count": 6,
   "metadata": {},
   "outputs": [
    {
     "name": "stdout",
     "output_type": "stream",
     "text": [
      "<class '__main__.Person'>\n"
     ]
    }
   ],
   "source": [
    "class Person():\n",
    "    pass;\n",
    "\n",
    "p1 = Person()\n",
    "print(type(p1))"
   ]
  },
  {
   "cell_type": "code",
   "execution_count": 14,
   "metadata": {},
   "outputs": [
    {
     "name": "stdout",
     "output_type": "stream",
     "text": [
      "initialization\n",
      "<class 'str'>\n",
      "robert\n",
      "initialization\n",
      "robert\n"
     ]
    }
   ],
   "source": [
    "class Person():                         #先建立一個實體Person,內容定義一個inital(列印initalization)\n",
    "    def __init__(self):\n",
    "        print('initialization')\n",
    "        self.name = 'robert'            #建立一個屬性(name),外部程式可以引用,並回傳實體\n",
    "\n",
    "p1 = Person()                           \n",
    "print(type(p1.name))\n",
    "print(p1.name)\n",
    "p1.name\n",
    "\n",
    "p2 = Person()\n",
    "print(p2.name)"
   ]
  },
  {
   "cell_type": "code",
   "execution_count": null,
   "metadata": {},
   "outputs": [],
   "source": [
    "class Person():\n",
    "    def __init__(self,n):               #定義的內容分別用self與n作為存入變數用,n就是程式中寫進的變數;當多次寫入,就會覆蓋前面的值\n",
    "        print('initialization')   \n",
    "        self.name = n\n",
    "\n",
    "p1 = Person(\"robert\")\n",
    "print(p1.name)\n",
    "\n",
    "p2 = Person(\"david\")\n",
    "print(p2.name)"
   ]
  },
  {
   "cell_type": "code",
   "execution_count": 15,
   "metadata": {},
   "outputs": [
    {
     "name": "stdout",
     "output_type": "stream",
     "text": [
      "initialization\n",
      "my name is robert\n",
      "initialization\n",
      "my name is david\n"
     ]
    }
   ],
   "source": [
    "class Person():\n",
    "    def __init__(self,n):\n",
    "        print('initialization')\n",
    "        self.name = n\n",
    "\n",
    "    def description(self):                  #再定義一個discription方法,方法中直接列印內容,內容中可以引用上一個寫入的變數結果\n",
    "        print(f\"my name is {self.name}\")\n",
    "\n",
    "p1 = Person(\"robert\")\n",
    "p1.description()\n",
    "\n",
    "p2 = Person(\"david\")\n",
    "p2.description()"
   ]
  },
  {
   "cell_type": "code",
   "execution_count": 16,
   "metadata": {},
   "outputs": [
    {
     "name": "stdout",
     "output_type": "stream",
     "text": [
      "initialization\n",
      "my name is Tom\n"
     ]
    }
   ],
   "source": [
    "class Student(Person):          #繼承了Person,Student方法中要填上繼承那個實體\n",
    "    pass\n",
    "\n",
    "stu1 = Student(\"Tom\")\n",
    "stu1.description()"
   ]
  },
  {
   "cell_type": "code",
   "execution_count": null,
   "metadata": {},
   "outputs": [],
   "source": [
    "class Student(Person):\n",
    "    def __init__(self,n,id):            #多建立一個id副類別,利用super繼承init的print功能\n",
    "        super().__init__(n)             \n",
    "        self.id = id\n",
    "\n",
    "stu1 = Student(\"Tom\",\"a1234\")\n",
    "stu1.description()\n",
    "print(stu1.id)"
   ]
  },
  {
   "cell_type": "code",
   "execution_count": 18,
   "metadata": {},
   "outputs": [
    {
     "name": "stdout",
     "output_type": "stream",
     "text": [
      "initialization\n",
      "I am student!!\n",
      "my name is Tom\n",
      "a1234\n"
     ]
    }
   ],
   "source": [
    "class Student(Person):\n",
    "    def __init__(self,n,id):\n",
    "        super().__init__(n)\n",
    "        self.id = id\n",
    "\n",
    "    def description(self):\n",
    "        print(\"I am student!!\")\n",
    "        super().description()           #如果要使用原本的description功能,前面加上super,要不然後面的description會覆蓋前面的內容\n",
    "\n",
    "stu1 = Student(\"Tom\",\"a1234\")\n",
    "stu1.description()\n",
    "print(stu1.id)"
   ]
  }
 ],
 "metadata": {
  "kernelspec": {
   "display_name": "Python 3.10.6 ('venv01')",
   "language": "python",
   "name": "python3"
  },
  "language_info": {
   "codemirror_mode": {
    "name": "ipython",
    "version": 3
   },
   "file_extension": ".py",
   "mimetype": "text/x-python",
   "name": "python",
   "nbconvert_exporter": "python",
   "pygments_lexer": "ipython3",
   "version": "3.10.6"
  },
  "orig_nbformat": 4,
  "vscode": {
   "interpreter": {
    "hash": "8201ecb79394bc6ddf1ca4392da3852c9be6efad0721bbc0fecf0589d0dad489"
   }
  }
 },
 "nbformat": 4,
 "nbformat_minor": 2
}
