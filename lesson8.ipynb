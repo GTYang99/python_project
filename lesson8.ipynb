{
 "cells": [
  {
   "cell_type": "code",
   "execution_count": 1,
   "metadata": {},
   "outputs": [
    {
     "data": {
      "text/plain": [
       "'Taiwan'"
      ]
     },
     "execution_count": 1,
     "metadata": {},
     "output_type": "execute_result"
    }
   ],
   "source": [
    "#建立dictionary\n",
    "codes = {\"tw\":\"Taiwan\",\n",
    "         \"us\":\"United State\",\n",
    "         \"jp\":\"Japan\"}\n",
    "\n",
    "#取出，取出用中括弧表示\n",
    "codes[\"tw\"]"
   ]
  },
  {
   "cell_type": "code",
   "execution_count": null,
   "metadata": {},
   "outputs": [],
   "source": [
    "#新增\n",
    "codes['fr'] = 'frence'\n",
    "\n",
    "#修改\n",
    "codes['tw'] = 'Taiwan number1'"
   ]
  },
  {
   "cell_type": "code",
   "execution_count": 2,
   "metadata": {},
   "outputs": [
    {
     "name": "stdout",
     "output_type": "stream",
     "text": [
      "tw\n",
      "us\n",
      "jp\n"
     ]
    }
   ],
   "source": [
    "# dict資料的key\n",
    "\n",
    "codes.keys()\n",
    "for key in codes.keys():\n",
    "    print(key)"
   ]
  },
  {
   "cell_type": "code",
   "execution_count": 3,
   "metadata": {},
   "outputs": [
    {
     "name": "stdout",
     "output_type": "stream",
     "text": [
      "tw\n",
      "Taiwan\n",
      "us\n",
      "United State\n",
      "jp\n",
      "Japan\n",
      "<class 'dict_items'>\n"
     ]
    }
   ],
   "source": [
    "# Python特殊的資料結構tuples，利用for迴圈，遍歷所有資料列印出來。tuples相當於list\n",
    "\n",
    "codes.items()\n",
    "for (key, value) in codes.items():\n",
    "    print(key)\n",
    "    print(value)\n",
    "print(type(codes.items()))"
   ]
  },
  {
   "cell_type": "code",
   "execution_count": null,
   "metadata": {},
   "outputs": [],
   "source": []
  }
 ],
 "metadata": {
  "kernelspec": {
   "display_name": "Python 3.10.6 ('venv01')",
   "language": "python",
   "name": "python3"
  },
  "language_info": {
   "codemirror_mode": {
    "name": "ipython",
    "version": 3
   },
   "file_extension": ".py",
   "mimetype": "text/x-python",
   "name": "python",
   "nbconvert_exporter": "python",
   "pygments_lexer": "ipython3",
   "version": "3.10.6"
  },
  "orig_nbformat": 4,
  "vscode": {
   "interpreter": {
    "hash": "8201ecb79394bc6ddf1ca4392da3852c9be6efad0721bbc0fecf0589d0dad489"
   }
  }
 },
 "nbformat": 4,
 "nbformat_minor": 2
}
