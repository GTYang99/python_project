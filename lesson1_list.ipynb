{
 "cells": [
  {
   "cell_type": "code",
   "execution_count": 1,
   "metadata": {},
   "outputs": [
    {
     "name": "stdout",
     "output_type": "stream",
     "text": [
      "[98, 78, 65, 92, 65]\n",
      "98\n",
      "65\n"
     ]
    }
   ],
   "source": [
    "stu1 = [98, 78, 65, 92, 65]\n",
    "print(stu1)\n",
    "print(stu1[0])\n",
    "print(stu1[4])"
   ]
  },
  {
   "cell_type": "code",
   "execution_count": 2,
   "metadata": {},
   "outputs": [
    {
     "name": "stdout",
     "output_type": "stream",
     "text": [
      "98\n",
      "78\n",
      "65\n",
      "92\n",
      "65\n"
     ]
    }
   ],
   "source": [
    "for item in stu1:   \n",
    "    print(item)"
   ]
  },
  {
   "cell_type": "code",
   "execution_count": 4,
   "metadata": {},
   "outputs": [
    {
     "data": {
      "text/plain": [
       "[98, 78, 76, 98, 65]"
      ]
     },
     "execution_count": 4,
     "metadata": {},
     "output_type": "execute_result"
    }
   ],
   "source": [
    "stu2 = []\n",
    "stu2.append(98)\n",
    "stu2.append(78)\n",
    "stu2.append(76)\n",
    "stu2.append(98)\n",
    "stu2.append(65)\n",
    "stu2"
   ]
  },
  {
   "cell_type": "code",
   "execution_count": 15,
   "metadata": {},
   "outputs": [
    {
     "data": {
      "text/plain": [
       "[93, 55, 55, 58, 78]"
      ]
     },
     "execution_count": 15,
     "metadata": {},
     "output_type": "execute_result"
    }
   ],
   "source": [
    "import random\n",
    "stu3 = []\n",
    "for i in range(5):\n",
    "    stu3.append(random.randint(50,100))\n",
    "stu3"
   ]
  },
  {
   "cell_type": "markdown",
   "metadata": {},
   "source": [
    ".append was python system\n",
    "random was Toolbox\n",
    ".randint was random tool"
   ]
  },
  {
   "cell_type": "code",
   "execution_count": 18,
   "metadata": {},
   "outputs": [
    {
     "data": {
      "text/plain": [
       "[[72, 75, 65, 73, 62],\n",
       " [90, 73, 50, 98, 94],\n",
       " [65, 71, 64, 94, 72],\n",
       " [78, 79, 60, 81, 54],\n",
       " [98, 96, 87, 62, 65],\n",
       " [84, 82, 83, 75, 76],\n",
       " [90, 69, 54, 55, 89],\n",
       " [87, 91, 97, 62, 63],\n",
       " [53, 96, 59, 80, 81],\n",
       " [73, 85, 50, 89, 75],\n",
       " [51, 88, 64, 93, 57],\n",
       " [99, 90, 72, 66, 63],\n",
       " [61, 65, 75, 59, 74],\n",
       " [57, 79, 94, 64, 69],\n",
       " [84, 66, 58, 94, 100],\n",
       " [80, 83, 88, 56, 60],\n",
       " [64, 70, 63, 96, 77],\n",
       " [86, 53, 91, 53, 85],\n",
       " [83, 61, 80, 83, 65],\n",
       " [54, 51, 65, 99, 81],\n",
       " [80, 86, 92, 70, 85],\n",
       " [61, 84, 53, 92, 95],\n",
       " [52, 71, 58, 61, 100],\n",
       " [89, 54, 76, 84, 59],\n",
       " [75, 81, 60, 95, 100],\n",
       " [61, 95, 68, 76, 91],\n",
       " [51, 90, 95, 72, 86],\n",
       " [65, 53, 97, 86, 61],\n",
       " [100, 89, 90, 57, 72],\n",
       " [58, 70, 73, 94, 53],\n",
       " [73, 50, 85, 79, 86],\n",
       " [88, 94, 95, 85, 58],\n",
       " [67, 97, 65, 62, 89],\n",
       " [85, 67, 62, 96, 84],\n",
       " [94, 56, 98, 100, 75],\n",
       " [71, 81, 98, 51, 99],\n",
       " [79, 82, 71, 97, 79],\n",
       " [87, 83, 88, 73, 50],\n",
       " [99, 94, 66, 55, 88],\n",
       " [91, 51, 76, 82, 67],\n",
       " [66, 51, 75, 75, 93],\n",
       " [59, 98, 53, 95, 52],\n",
       " [95, 100, 94, 64, 53],\n",
       " [69, 85, 87, 70, 64],\n",
       " [68, 51, 70, 56, 100],\n",
       " [66, 82, 86, 60, 84],\n",
       " [67, 90, 77, 77, 83],\n",
       " [51, 71, 52, 99, 88],\n",
       " [55, 80, 85, 99, 61],\n",
       " [98, 55, 67, 54, 60]]"
      ]
     },
     "execution_count": 18,
     "metadata": {},
     "output_type": "execute_result"
    }
   ],
   "source": [
    "import random as rd\n",
    "stu3 = []\n",
    "for i in range(50):\n",
    "    stu3.append([rd.randint(50,100),rd.randint(50,100),rd.randint(50,100),rd.randint(50,100),rd.randint(50,100)])\n",
    "\n",
    "stu3"
   ]
  }
 ],
 "metadata": {
  "kernelspec": {
   "display_name": "Python 3.10.6 ('venv01')",
   "language": "python",
   "name": "python3"
  },
  "language_info": {
   "codemirror_mode": {
    "name": "ipython",
    "version": 3
   },
   "file_extension": ".py",
   "mimetype": "text/x-python",
   "name": "python",
   "nbconvert_exporter": "python",
   "pygments_lexer": "ipython3",
   "version": "3.10.6"
  },
  "orig_nbformat": 4,
  "vscode": {
   "interpreter": {
    "hash": "8201ecb79394bc6ddf1ca4392da3852c9be6efad0721bbc0fecf0589d0dad489"
   }
  }
 },
 "nbformat": 4,
 "nbformat_minor": 2
}
